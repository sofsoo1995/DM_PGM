{
 "cells": [
  {
   "cell_type": "markdown",
   "metadata": {},
   "source": [
    "# Master M2 MVA 2017/2018 - Graphical models - HWK 1\n",
    "\n",
    "Sofiane Horache\n",
    "\n",
    "## 1  Learning in discrete graphical models\n",
    "\n",
    "\n",
    "## 2 Linear classification\n",
    "\n",
    "\n"
   ]
  },
  {
   "cell_type": "code",
   "execution_count": 1,
   "metadata": {
    "collapsed": true
   },
   "outputs": [],
   "source": [
    "import numpy as np\n",
    "import matplotlib.pyplot as plt\n",
    "import pandas as pd\n",
    "%matplotlib inline "
   ]
  },
  {
   "cell_type": "code",
   "execution_count": 25,
   "metadata": {
    "collapsed": false
   },
   "outputs": [
    {
     "name": "stdout",
     "output_type": "stream",
     "text": [
      "0.19.2\n"
     ]
    }
   ],
   "source": [
    "print(pd.__version__)"
   ]
  },
  {
   "cell_type": "code",
   "execution_count": 40,
   "metadata": {
    "collapsed": false
   },
   "outputs": [],
   "source": [
    "# Data for training\n",
    "dataA = pd.read_csv('./classification_data_HWK1/classificationA.train', sep='\\t', header=None).as_matrix()\n",
    "dataB = pd.read_csv('./classification_data_HWK1/classificationB.train', sep='\\t', header=None).as_matrix()\n",
    "dataC = pd.read_csv('./classification_data_HWK1/classificationC.train', sep='\\t', header=None).as_matrix()\n",
    "# Data for the test\n",
    "testA = pd.read_csv('./classification_data_HWK1/classificationA.test',sep='\\t', header=None).as_matrix()\n",
    "testB = pd.read_csv('./classification_data_HWK1/classificationB.test',sep='\\t', header=None).as_matrix()\n",
    "testC = pd.read_csv('./classification_data_HWK1/classificationC.test',sep='\\t', header=None).as_matrix()\n"
   ]
  },
  {
   "cell_type": "code",
   "execution_count": 65,
   "metadata": {
    "collapsed": false
   },
   "outputs": [],
   "source": [
    "def separ(data):\n",
    "    \"\"\"this function separates the data above in a matrix X and a vector y\"\"\"\n",
    "    return data[:,:-1], data[:,-1]\n",
    "\n"
   ]
  },
  {
   "cell_type": "markdown",
   "metadata": {},
   "source": [
    "### Generative model LDA\n",
    "\n",
    "#### a) MLE of LDA\n",
    "\n",
    "#### b) conditional distribution $p(y=1|x)$\n",
    "\n",
    "#### c) implementation"
   ]
  },
  {
   "cell_type": "code",
   "execution_count": null,
   "metadata": {
    "collapsed": true
   },
   "outputs": [],
   "source": [
    "#function of conditionnal distribution\n",
    "def cond_distrib(w, b, pi):\n",
    "    \n",
    "    return "
   ]
  },
  {
   "cell_type": "code",
   "execution_count": 102,
   "metadata": {
    "collapsed": false
   },
   "outputs": [
    {
     "name": "stdout",
     "output_type": "stream",
     "text": [
      "[ 1.93313964 -0.595916  ]\n",
      "[-0.89744001  0.28868067]\n",
      "[[ 10.6930188  10.6930188]\n",
      " [ 10.6930188  10.6930188]]\n"
     ]
    }
   ],
   "source": [
    "# computation of estimated parameters\n",
    "def MLE_LDA(data):\n",
    "    X_train, y_train = separ(data)\n",
    "    n = y_train.shape[0]\n",
    "    mu1 = np.sum(X_train[y_train==1],axis=0)/n\n",
    "    mu0 = np.sum(X_train[y_train==0],axis=0)/n\n",
    "    mu = np.sum(X_train,axis=0)/n\n",
    "    pi = float(np.count_nonzero(y_train))/n\n",
    "    sigma = np.zeros((2,2))\n",
    "    Xc = X_train - mu\n",
    "    for x in Xc:\n",
    "        sigma += x.dot(x.T)\n",
    "    sigma /= n\n",
    "    #sigma = np.linalg.inv(sigma)\n",
    "    #w = sigma.dot(mu1 -mu0)\n",
    "    #b = mu0.dot(sigma.dot(mu0))-mu1.dot(sigma.dot(mu1))\n",
    "    return mu0, mu1, sigma\n",
    "mu0, mu1, sigma = MLE_LDA(dataA)\n",
    "print(mu0)\n",
    "print(mu1)\n",
    "print(sigma)"
   ]
  },
  {
   "cell_type": "code",
   "execution_count": null,
   "metadata": {
    "collapsed": true
   },
   "outputs": [],
   "source": []
  },
  {
   "cell_type": "code",
   "execution_count": 97,
   "metadata": {
    "collapsed": false
   },
   "outputs": [
    {
     "data": {
      "image/png": "[encoded data removed]",
      "text/plain": [
       "<matplotlib.figure.Figure at 0x7f7e8a987790>"
      ]
     },
     "metadata": {},
     "output_type": "display_data"
    }
   ],
   "source": [
    "def plot_data(data,title):\n",
    "    X_train, y_train = separ(data)\n",
    "    x1 = X_train[y_train==1][:,0]\n",
    "    y1 = X_train[y_train==1][:,1]\n",
    "    x0 = X_train[y_train==0][:,0]\n",
    "    y0 = X_train[y_train==0][:,1]\n",
    "    plt.scatter(x0,y0,c='r')\n",
    "    plt.scatter(x1,y1,c='b')\n",
    "    plt.title(title)\n",
    "plot_data(dataA,\"point of dataA\")"
   ]
  }
 ],
 "metadata": {
  "kernelspec": {
   "display_name": "Python 2",
   "language": "python",
   "name": "python2"
  },
  "language_info": {
   "codemirror_mode": {
    "name": "ipython",
    "version": 2
   },
   "file_extension": ".py",
   "mimetype": "text/x-python",
   "name": "python",
   "nbconvert_exporter": "python",
   "pygments_lexer": "ipython2",
   "version": "2.7.13"
  }
 },
 "nbformat": 4,
 "nbformat_minor": 2
}
